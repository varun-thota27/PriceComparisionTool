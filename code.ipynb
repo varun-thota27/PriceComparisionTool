{
 "cells": [
  {
   "cell_type": "code",
   "execution_count": 1,
   "id": "aa9c593c",
   "metadata": {},
   "outputs": [
    {
     "name": "stdout",
     "output_type": "stream",
     "text": [
      "Requirement already satisfied: requests in c:\\users\\thota varun\\anaconda3\\lib\\site-packages (2.31.0)\n",
      "Requirement already satisfied: charset-normalizer<4,>=2 in c:\\users\\thota varun\\anaconda3\\lib\\site-packages (from requests) (2.0.4)\n",
      "Requirement already satisfied: idna<4,>=2.5 in c:\\users\\thota varun\\anaconda3\\lib\\site-packages (from requests) (3.4)\n",
      "Requirement already satisfied: urllib3<3,>=1.21.1 in c:\\users\\thota varun\\anaconda3\\lib\\site-packages (from requests) (1.26.16)\n",
      "Requirement already satisfied: certifi>=2017.4.17 in c:\\users\\thota varun\\anaconda3\\lib\\site-packages (from requests) (2023.7.22)\n"
     ]
    }
   ],
   "source": [
    "!pip install requests"
   ]
  },
  {
   "cell_type": "code",
   "execution_count": 2,
   "id": "7bb58750",
   "metadata": {},
   "outputs": [
    {
     "name": "stdout",
     "output_type": "stream",
     "text": [
      "Requirement already satisfied: beautifulsoup4 in c:\\users\\thota varun\\anaconda3\\lib\\site-packages (4.12.2)\n",
      "Requirement already satisfied: soupsieve>1.2 in c:\\users\\thota varun\\anaconda3\\lib\\site-packages (from beautifulsoup4) (2.4)\n"
     ]
    }
   ],
   "source": [
    "!pip install beautifulsoup4"
   ]
  },
  {
   "cell_type": "code",
   "execution_count": 3,
   "id": "a504405f",
   "metadata": {},
   "outputs": [],
   "source": [
    "from bs4 import BeautifulSoup\n",
    "import requests"
   ]
  },
  {
   "cell_type": "code",
   "execution_count": 4,
   "id": "8e004d71",
   "metadata": {},
   "outputs": [],
   "source": [
    "headers = {'User-Agent' :'Mozilla/5.0 (Windows NT 10.0; Win64; x64) AppleWebKit/537.36 (KHTML, like Gecko) Chrome/120.0.0.0 Safari/537.36'}"
   ]
  },
  {
   "cell_type": "code",
   "execution_count": 5,
   "id": "0cd6e052",
   "metadata": {},
   "outputs": [],
   "source": [
    "flipkart=''\n",
    "amazon=''"
   ]
  },
  {
   "cell_type": "code",
   "execution_count": 6,
   "id": "978e95b9",
   "metadata": {},
   "outputs": [],
   "source": [
    "def flipkart(name):\n",
    "    try:\n",
    "        global flipkart\n",
    "        name1 = name.replace(\" \",\"+\")\n",
    "        flipkart=f'https://www.flipkart.com/search?q={name1}&otracker=search&otracker1=search&marketplace=FLIPKART&as-show=off&as=off'\n",
    "        res = requests.get(f'https://www.flipkart.com/search?q={name1}&otracker=search&otracker1=search&marketplace=FLIPKART&as-show=off&as=off',headers=headers)\n",
    "\n",
    "\n",
    "        print(\"\\nSearching in flipkart....\")\n",
    "        soup = BeautifulSoup(res.text,'html.parser')\n",
    "        \n",
    "        if(soup.select('._4rR01T')):\n",
    "            flipkart_name = soup.select('._4rR01T')[0].getText().strip().upper()\n",
    "            if name.upper() in flipkart_name:\n",
    "                flipkart_price = soup.select('._30jeq3')[0].getText().strip()\n",
    "                flipkart_name = soup.select('._4rR01T')[0].getText().strip()\n",
    "                print(\"Flipkart:\")\n",
    "                print(flipkart_name)\n",
    "                print(flipkart_price)\n",
    "                print(\"---------------------------------\")\n",
    "                \n",
    "        elif(soup.select('.s1Q9rs')):\n",
    "            flipkart_name = soup.select('.s1Q9rs')[0].getText().strip()\n",
    "            flipkart_name = flipkart_name.upper()\n",
    "            if name.upper() in flipkart_name:\n",
    "                flipkart_price = soup.select('._30jeq3')[0].getText().strip()\n",
    "                flipkart_name = soup.select('.s1Q9rs')[0].getText().strip()\n",
    "                print(\"Flipkart:\")\n",
    "                print(flipkart_name)\n",
    "                print(flipkart_price)\n",
    "                print(\"---------------------------------\")\n",
    "        else:\n",
    "            flipkart_price='0'\n",
    "            \n",
    "        return flipkart_price \n",
    "    except:\n",
    "        print(\"Flipkart: No product found!\")  \n",
    "        print(\"---------------------------------\")\n",
    "        flipkart_price= '0'\n",
    "    return flipkart_price\n",
    "\n",
    "def amazon(name):\n",
    "    try:\n",
    "        global amazon\n",
    "        name1 = name.replace(\" \",\"-\")\n",
    "        name2 = name.replace(\" \",\"+\")\n",
    "        amazon=f'https://www.amazon.in/{name1}/s?k={name2}'\n",
    "        res = requests.get(f'https://www.amazon.in/{name1}/s?k={name2}',headers=headers)\n",
    "        print(\"\\nSearching in amazon...\")\n",
    "        soup = BeautifulSoup(res.text,'html.parser')\n",
    "        amazon_page = soup.select('.a-color-base.a-text-normal')\n",
    "        amazon_page_length = int(len(amazon_page))\n",
    "        for i in range(0,amazon_page_length):\n",
    "            name = name.upper()\n",
    "            amazon_name = soup.select('.a-color-base.a-text-normal')[i].getText().strip().upper()\n",
    "            if name in amazon_name:\n",
    "                amazon_name = soup.select('.a-color-base.a-text-normal')[i].getText().strip()\n",
    "                amazon_price = soup.select('.a-price-whole')[i].getText().strip().upper()\n",
    "                print(\"Amazon:\")\n",
    "                print(amazon_name)\n",
    "                print(\"₹\"+amazon_price)\n",
    "                print(\"---------------------------------\")\n",
    "                break\n",
    "            else:\n",
    "                i+=1\n",
    "                i=int(i)\n",
    "                if i==amazon_page_length:\n",
    "                    amazon_price = '0'\n",
    "                    print(\"amazon : No product found!\")\n",
    "                    print(\"-----------------------------\")\n",
    "                    break\n",
    "                    \n",
    "        return amazon_price\n",
    "    except:\n",
    "        print(\"Amazon: No product found!\")\n",
    "        print(\"---------------------------------\")\n",
    "        amazon_price = '0'\n",
    "    return amazon_price\n",
    "\n",
    "def convert(a):\n",
    "    b=a.replace(\" \",'')\n",
    "    c=b.replace(\"INR\",'')\n",
    "    d=c.replace(\",\",'')\n",
    "    f=d.replace(\"₹\",'')\n",
    "    g=int(float(f))\n",
    "    return g\n",
    "\n",
    "name=input(\"Product Name:\\n\")\n",
    "flipkart_price=flipkart(name)\n",
    "amazon_price=amazon(name)\n",
    "\n",
    "\n",
    "if flipkart_price=='0':\n",
    "    print(\"Flipkart: No product found!\")\n",
    "    flipkart_price = int(flipkart_price)\n",
    "else:\n",
    "    print(\"\\nFlipkart Price:\",flipkart_price)\n",
    "    flipkart_price=convert(flipkart_price)\n",
    "if amazon_price=='0':\n",
    "    print(\"Amazon: No product found!\")\n",
    "    amazon_price = int(amazon_price)\n",
    "else:\n",
    "    print(\"\\nAmazon price: ₹\",amazon_price)\n",
    "    amazon_price=convert(amazon_price)"
   ]
  },
  {
   "cell_type": "code",
   "execution_count": null,
   "id": "fd0abd7c",
   "metadata": {},
   "outputs": [
    {
     "ename": "",
     "evalue": "",
     "output_type": "error",
     "traceback": [
      "\u001b[1;31mRunning cells with 'Python 3.10.11' requires the ipykernel package.\n",
      "\u001b[1;31mRun the following command to install 'ipykernel' into the Python environment. \n",
      "\u001b[1;31mCommand: '\"c:/Users/Thota Varun/AppData/Local/Microsoft/WindowsApps/python3.10.exe\" -m pip install ipykernel -U --user --force-reinstall'"
     ]
    }
   ],
   "source": []
  }
 ],
 "metadata": {
  "kernelspec": {
   "display_name": "Python 3 (ipykernel)",
   "language": "python",
   "name": "python3"
  },
  "language_info": {
   "codemirror_mode": {
    "name": "ipython",
    "version": 3
   },
   "file_extension": ".py",
   "mimetype": "text/x-python",
   "name": "python",
   "nbconvert_exporter": "python",
   "pygments_lexer": "ipython3",
   "version": "3.11.5"
  }
 },
 "nbformat": 4,
 "nbformat_minor": 5
}
